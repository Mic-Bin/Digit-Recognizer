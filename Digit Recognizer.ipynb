{
 "cells": [
  {
   "cell_type": "code",
   "execution_count": 2,
   "metadata": {},
   "outputs": [],
   "source": [
    "import pandas as pd\n",
    "import numpy as np \n",
    "import tensorflow as tf\n",
    "from tensorflow import keras\n",
    "from keras.layers import Dense"
   ]
  },
  {
   "cell_type": "code",
   "execution_count": 4,
   "metadata": {},
   "outputs": [],
   "source": [
    "train = pd.read_csv('train.csv')\n",
    "test = pd.read_csv('test.csv')"
   ]
  },
  {
   "cell_type": "code",
   "execution_count": 5,
   "metadata": {},
   "outputs": [],
   "source": [
    "#create test and train sets\n",
    "y_train = train['label'].values\n",
    "X_train = train.drop(columns='label').values\n",
    "X_test = test.values"
   ]
  },
  {
   "cell_type": "code",
   "execution_count": 6,
   "metadata": {},
   "outputs": [],
   "source": [
    "#function that normalizes data\n",
    "def normalize(imagedata):\n",
    "  imagedata = imagedata/max(imagedata[0])\n",
    "  return imagedata"
   ]
  },
  {
   "cell_type": "code",
   "execution_count": 7,
   "metadata": {},
   "outputs": [],
   "source": [
    "# Reshape the images to add an extra dimension\n",
    "def reshape(imagedata):\n",
    "  imagedata = imagedata.reshape(-1, 28, 28, 1) \n",
    "  return imagedata"
   ]
  },
  {
   "cell_type": "code",
   "execution_count": 8,
   "metadata": {},
   "outputs": [],
   "source": [
    "#normalize data\n",
    "X_train = normalize(X_train)\n",
    "X_test  = normalize(X_test)\n",
    "\n",
    "#reshape data\n",
    "X_train = reshape(X_train)\n",
    "X_test  = reshape(X_test)"
   ]
  },
  {
   "cell_type": "code",
   "execution_count": 18,
   "metadata": {},
   "outputs": [],
   "source": [
    "#monitor model's training progress\n",
    "class Callbacks(tf.keras.callbacks.Callback):\n",
    "    def epochEnd(self, epoch, logs={}):\n",
    "        if logs.get('accuracy') is not None and logs.get('accuracy') >= .999:\n",
    "            print()\n",
    "            print('Reached 99.9% accuracy ')\n",
    "            self.model.stop_training = True"
   ]
  },
  {
   "cell_type": "code",
   "execution_count": 21,
   "metadata": {},
   "outputs": [],
   "source": [
    "def simpleANN(x_train, y_train):\n",
    "  callbacks = Callbacks()\n",
    "\n",
    "  #create model object with flattening layer, a hidden reLU dense layer, and output soft max dense layer\n",
    "  model = keras.models.Sequential([ keras.layers.Flatten(input_shape=(28,28)), \n",
    "                                    keras.layers.Dense(128, activation= 'relu'), \n",
    "                                    keras.layers.Dense(10, activation= 'softmax')])\n",
    "\n",
    "  #compile the model\n",
    "  model.compile(optimizer='adam', loss='sparse_categorical_crossentropy', metrics=['accuracy'])\n",
    "\n",
    "  #fit model\n",
    "  history = model.fit(x_train, y_train, epochs=10, callbacks=[callbacks], batch_size=64)\n",
    "  \n",
    "  return history, model"
   ]
  },
  {
   "cell_type": "code",
   "execution_count": 22,
   "metadata": {},
   "outputs": [
    {
     "name": "stdout",
     "output_type": "stream",
     "text": [
      "Epoch 1/10\n",
      "657/657 [==============================] - 2s 2ms/step - loss: 0.3441 - accuracy: 0.9040\n",
      "Epoch 2/10\n",
      "657/657 [==============================] - 1s 2ms/step - loss: 0.1593 - accuracy: 0.9544\n",
      "Epoch 3/10\n",
      "657/657 [==============================] - 1s 2ms/step - loss: 0.1131 - accuracy: 0.9671\n",
      "Epoch 4/10\n",
      "657/657 [==============================] - 1s 2ms/step - loss: 0.0858 - accuracy: 0.9755\n",
      "Epoch 5/10\n",
      "657/657 [==============================] - 1s 2ms/step - loss: 0.0670 - accuracy: 0.9810\n",
      "Epoch 6/10\n",
      "657/657 [==============================] - 1s 2ms/step - loss: 0.0543 - accuracy: 0.9832\n",
      "Epoch 7/10\n",
      "657/657 [==============================] - 1s 2ms/step - loss: 0.0433 - accuracy: 0.9871\n",
      "Epoch 8/10\n",
      "657/657 [==============================] - 1s 2ms/step - loss: 0.0349 - accuracy: 0.9899\n",
      "Epoch 9/10\n",
      "657/657 [==============================] - 1s 2ms/step - loss: 0.0294 - accuracy: 0.9917\n",
      "Epoch 10/10\n",
      "657/657 [==============================] - 1s 2ms/step - loss: 0.0235 - accuracy: 0.9935\n"
     ]
    }
   ],
   "source": [
    "history, model = simpleANN(X_train, y_train)"
   ]
  },
  {
   "cell_type": "code",
   "execution_count": 13,
   "metadata": {},
   "outputs": [
    {
     "name": "stdout",
     "output_type": "stream",
     "text": [
      "875/875 [==============================] - 1s 1ms/step\n"
     ]
    }
   ],
   "source": [
    "X_full_train = np.vstack((X_train, X_test))\n",
    "\n",
    "y_test_pred = model.predict(X_test)"
   ]
  },
  {
   "cell_type": "code",
   "execution_count": 14,
   "metadata": {},
   "outputs": [],
   "source": [
    "y_test_pred_classes = np.argmax(y_test_pred, axis=1)"
   ]
  }
 ],
 "metadata": {
  "kernelspec": {
   "display_name": "Python 3",
   "language": "python",
   "name": "python3"
  },
  "language_info": {
   "codemirror_mode": {
    "name": "ipython",
    "version": 3
   },
   "file_extension": ".py",
   "mimetype": "text/x-python",
   "name": "python",
   "nbconvert_exporter": "python",
   "pygments_lexer": "ipython3",
   "version": "3.11.4"
  },
  "orig_nbformat": 4
 },
 "nbformat": 4,
 "nbformat_minor": 2
}
